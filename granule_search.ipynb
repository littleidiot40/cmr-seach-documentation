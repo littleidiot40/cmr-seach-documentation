{
 "cells": [
  {
   "cell_type": "markdown",
   "metadata": {},
   "source": [
    "# Search for granule metadata using CMR search\n",
    "## Pre-requisites\n",
    "A collection concept id. See collection_search notebook for this."
   ]
  },
  {
   "cell_type": "markdown",
   "metadata": {},
   "source": [
    "## Find all granules for a collection\n",
    "Where we add a collection constraint to filter our granule results to a particular collection of granules. [Reference](https://cmr.earthdata.nasa.gov/search/site/docs/search/api.html#find-all-granules)"
   ]
  },
  {
   "cell_type": "code",
   "execution_count": 4,
   "metadata": {},
   "outputs": [
    {
     "name": "stdout",
     "output_type": "stream",
     "text": [
      " C1214470488-ASF\n"
     ]
    },
    {
     "name": "stdout",
     "output_type": "stream",
     "text": [
      "Searching for granules in collection identified by concept-id: C1214470488-ASF\n"
     ]
    }
   ],
   "source": [
    "import requests\n",
    "\n",
    "concept_id = input()\n",
    "print(\"Searching for granules in collection identified by concept-id: \" + concept_id)\n",
    "\n",
    "response = requests.get(\"https://cmr.earthdata.nasa.gov/search/granules.umm_json?collection_concept_id=\" + concept_id)"
   ]
  },
  {
   "cell_type": "markdown",
   "metadata": {},
   "source": [
    "    GET https://cmr.earthdata.nasa.gov/search/collections?collection_concept_id=C1214470488-ASF\n",
    "How many granules are there in this collection?"
   ]
  },
  {
   "cell_type": "code",
   "execution_count": 5,
   "metadata": {},
   "outputs": [
    {
     "name": "stdout",
     "output_type": "stream",
     "text": [
      "Number of granules in this collection: 1075067\n"
     ]
    }
   ],
   "source": [
    "print(\"Number of granules in this collection: \" + response.headers['CMR-Hits'])"
   ]
  },
  {
   "cell_type": "markdown",
   "metadata": {},
   "source": [
    "We can further constrain our search with additional constraints."
   ]
  },
  {
   "cell_type": "markdown",
   "metadata": {},
   "source": [
    "## Find granules by spatial filter\n",
    "Where we add a spatial constraint to filter our granule results to a particular region in space. [Reference](https://cmr.earthdata.nasa.gov/search/site/docs/search/api.html#g-spatial)\n",
    "\n",
    "The parameters used for searching granules by spatial are the same as the spatial parameters used in collections searches.\n"
   ]
  },
  {
   "cell_type": "markdown",
   "metadata": {},
   "source": [
    "### Polygon\n",
    "Polygon points are provided in counter-clockwise order. The last point should match the first point to close the polygon. The values are listed comma separated in longitude latitude order, i.e. lon1, lat1, lon2, lat2, lon3, lat3, and so on.\n",
    "This parameter supports the and/or option as shown below.\n",
    "\n",
    "    GET https://cmr.earthdata.nasa.gov/search/granules?polygon[]=10,10,30,10,30,20,10,20,10,10"
   ]
  },
  {
   "cell_type": "code",
   "execution_count": 6,
   "metadata": {},
   "outputs": [
    {
     "name": "stdout",
     "output_type": "stream",
     "text": [
      "Number of granules in this collection intersecting polygon: 4592\n"
     ]
    }
   ],
   "source": [
    "response = requests.get(\"https://cmr.earthdata.nasa.gov/search/granules.umm_json?collection_concept_id=\" + concept_id + \"&polygon[]=10,10,30,10,30,20,10,20,10,10\")\n",
    "print(\"Number of granules in this collection intersecting polygon: \" + response.headers['CMR-Hits'])"
   ]
  },
  {
   "cell_type": "markdown",
   "metadata": {},
   "source": [
    "    GET https://cmr.earthdata.nasa.gov/search/granules?polygon[]=10,10,30,10,30,20,10,20,10,10&polygon[]=11,11,31,11,31,21,11,21,11,11&options[polygon][or]=true"
   ]
  },
  {
   "cell_type": "code",
   "execution_count": 7,
   "metadata": {},
   "outputs": [
    {
     "name": "stdout",
     "output_type": "stream",
     "text": [
      "Number of granules in this collection intersecting either polygon: 4902\n"
     ]
    }
   ],
   "source": [
    "response = requests.get(\"https://cmr.earthdata.nasa.gov/search/granules.umm_json?collection_concept_id=\" + concept_id + \"&polygon[]=10,10,30,10,30,20,10,20,10,10&polygon[]=11,11,31,11,31,21,11,21,11,11&options[polygon][or]=true\")\n",
    "print(\"Number of granules in this collection intersecting either polygon: \" + response.headers['CMR-Hits'])"
   ]
  },
  {
   "cell_type": "markdown",
   "metadata": {},
   "source": [
    "### Bounding Box\n",
    "Bounding boxes define an area on the earth aligned with longitude and latitude. The Bounding box parameters must be 4 comma-separated numbers: lower left longitude, lower left latitude, upper right longitude, upper right latitude.\n",
    "This parameter supports the and/or option as shown below.\n",
    "\n",
    "    GET https://cmr.earthdata.nasa.gov/search/granules?bounding_box[]=-10,-5,10,5"
   ]
  },
  {
   "cell_type": "code",
   "execution_count": 8,
   "metadata": {},
   "outputs": [
    {
     "name": "stdout",
     "output_type": "stream",
     "text": [
      "Number of granules in this collection intersecting bounding box: 9316\n"
     ]
    }
   ],
   "source": [
    "response = requests.get(\"https://cmr.earthdata.nasa.gov/search/granules.umm_json?collection_concept_id=\" + concept_id + \"&bounding_box[]=-10,-5,10,5\")\n",
    "print(\"Number of granules in this collection intersecting bounding box: \" + response.headers['CMR-Hits'])"
   ]
  },
  {
   "cell_type": "markdown",
   "metadata": {},
   "source": [
    "    GET https://cmr.earthdata.nasa.gov/search/granules?bounding_box[]=-10,-5,10,5&bounding_box[]=-11,-6,11,6&options[bounding_box][or]=true"
   ]
  },
  {
   "cell_type": "code",
   "execution_count": 9,
   "metadata": {},
   "outputs": [
    {
     "name": "stdout",
     "output_type": "stream",
     "text": [
      "Number of granules in this collection intersecting either bounding box: 12132\n"
     ]
    }
   ],
   "source": [
    "response = requests.get(\"https://cmr.earthdata.nasa.gov/search/granules.umm_json?collection_concept_id=\" + concept_id + \"&bounding_box[]=-10,-5,10,5&bounding_box[]=-11,-6,11,6&options[bounding_box][or]=true\")\n",
    "print(\"Number of granules in this collection intersecting either bounding box: \" + response.headers['CMR-Hits'])"
   ]
  },
  {
   "cell_type": "markdown",
   "metadata": {},
   "source": [
    "### Point\n",
    "Search using a point involves using a pair of values representing the point coordinates as parameters. The first value is the longitude and second value is the latitude. This parameter supports the and/or option as shown below.\n",
    "\n",
    "    GET https://cmr.earthdata.nasa.gov/search/granules?point=100,20"
   ]
  },
  {
   "cell_type": "code",
   "execution_count": 10,
   "metadata": {},
   "outputs": [
    {
     "name": "stdout",
     "output_type": "stream",
     "text": [
      "Number of granules in this collection intersecting this point: 290\n"
     ]
    }
   ],
   "source": [
    "response = requests.get(\"https://cmr.earthdata.nasa.gov/search/granules.umm_json?collection_concept_id=\" + concept_id + \"&point=100,20\")\n",
    "print(\"Number of granules in this collection intersecting this point: \" + response.headers['CMR-Hits'])"
   ]
  },
  {
   "cell_type": "markdown",
   "metadata": {},
   "source": [
    "    GET https://cmr.earthdata.nasa.gov/search/granules?point=100,20&point=80,20&options[point][or]=true"
   ]
  },
  {
   "cell_type": "code",
   "execution_count": 11,
   "metadata": {},
   "outputs": [
    {
     "name": "stdout",
     "output_type": "stream",
     "text": [
      "Number of granules in this collection intersecting these points: 564\n"
     ]
    }
   ],
   "source": [
    "response = requests.get(\"https://cmr.earthdata.nasa.gov/search/granules.umm_json?collection_concept_id=\" + concept_id + \"&point=100,20&point=80,20&options[point][or]=true\")\n",
    "print(\"Number of granules in this collection intersecting these points: \" + response.headers['CMR-Hits'])"
   ]
  },
  {
   "cell_type": "markdown",
   "metadata": {},
   "source": [
    "### Line\n",
    "Lines are provided as a list of comma separated values representing coordinates of points along the line. The coordinates are listed in the format lon1, lat1, lon2, lat2, lon3, lat3, and so on. This parameter supports the and/or option as shown below.\n",
    "\n",
    "    GET https://cmr.earthdata.nasa.gov/search/granules?line[]=-0.37,-14.07,4.75,1.27,25.13,-15.51"
   ]
  },
  {
   "cell_type": "code",
   "execution_count": 12,
   "metadata": {},
   "outputs": [
    {
     "name": "stdout",
     "output_type": "stream",
     "text": [
      "Number of granules in this collection intersecting line: 2037\n"
     ]
    }
   ],
   "source": [
    "response = requests.get(\"https://cmr.earthdata.nasa.gov/search/granules.umm_json?collection_concept_id=\" + concept_id + \"&line[]=-0.37,-14.07,4.75,1.27,25.13,-15.51\")\n",
    "print(\"Number of granules in this collection intersecting line: \" + response.headers['CMR-Hits'])"
   ]
  },
  {
   "cell_type": "markdown",
   "metadata": {},
   "source": [
    "    GET https://cmr.earthdata.nasa.gov/search/granules?line[]=-0.37,-14.07,4.75,1.27,25.13,-15.51&line[]=-1.37,-15.07,5.75,2.27,26.13,-16.51&options[line][or]=true"
   ]
  },
  {
   "cell_type": "code",
   "execution_count": 13,
   "metadata": {},
   "outputs": [
    {
     "name": "stdout",
     "output_type": "stream",
     "text": [
      "Number of granules in this collection intersecting these lines: 3643\n"
     ]
    }
   ],
   "source": [
    "response = requests.get(\"https://cmr.earthdata.nasa.gov/search/granules.umm_json?collection_concept_id=\" + concept_id + \"&line[]=-0.37,-14.07,4.75,1.27,25.13,-15.51&line[]=-1.37,-15.07,5.75,2.27,26.13,-16.51&options[line][or]=true\")\n",
    "print(\"Number of granules in this collection intersecting these lines: \" + response.headers['CMR-Hits'])"
   ]
  },
  {
   "cell_type": "markdown",
   "metadata": {},
   "source": [
    "### Circle\n",
    "Circle defines a circle area on the earth with a center point and a radius. The center parameters must be 3 comma-separated numbers: longitude of the center point, latitude of the center point, radius of the circle in meters. The circle center cannot be on North or South pole. The radius of the circle must be between 10 and 6,000,000.\n",
    "This parameter supports the and/or option as shown below.\n",
    "\n",
    "    GET https://cmr.earthdata.nasa.gov/search/granules?circle[]=-87.629717,41.878112,1000"
   ]
  },
  {
   "cell_type": "code",
   "execution_count": 14,
   "metadata": {},
   "outputs": [
    {
     "name": "stdout",
     "output_type": "stream",
     "text": [
      "Number of granules in this collection interesecting circle: 150\n"
     ]
    }
   ],
   "source": [
    "response = requests.get(\"https://cmr.earthdata.nasa.gov/search/granules.umm_json?collection_concept_id=\" + concept_id + \"&circle[]=-87.629717,41.878112,1000\")\n",
    "print(\"Number of granules in this collection interesecting circle: \" + response.headers['CMR-Hits'])"
   ]
  },
  {
   "cell_type": "markdown",
   "metadata": {},
   "source": [
    "    GET https://cmr.earthdata.nasa.gov/search/granules?circle[]=-87.629717,41.878112,1000&circle[]=-75,41.878112,1000&options[circle][or]=true"
   ]
  },
  {
   "cell_type": "code",
   "execution_count": 15,
   "metadata": {},
   "outputs": [
    {
     "name": "stdout",
     "output_type": "stream",
     "text": [
      "Number of granules in this collection interesecting these circles: 449\n"
     ]
    }
   ],
   "source": [
    "response = requests.get(\"https://cmr.earthdata.nasa.gov/search/granules.umm_json?collection_concept_id=\" + concept_id + \"&circle[]=-87.629717,41.878112,1000&circle[]=-75,41.878112,1000&options[circle][or]=true\")\n",
    "print(\"Number of granules in this collection interesecting these circles: \" + response.headers['CMR-Hits'])"
   ]
  },
  {
   "cell_type": "markdown",
   "metadata": {},
   "source": [
    "Note: A query could consist of multiple spatial parameters of different types, two bounding boxes and a polygon for example. If multiple spatial parameters are present, all the parameters irrespective of their type are AND'd in a query. So, if a query contains two bounding boxes and a polygon for example, it will return only those collections which intersect both the bounding boxes and the polygon."
   ]
  },
  {
   "cell_type": "markdown",
   "metadata": {},
   "source": [
    "## Find granules by temporal filter\n",
    "Where we add a temporal constraint to filter our granule results to a particular period in time. [Reference](https://cmr.earthdata.nasa.gov/search/site/docs/search/api.html#g-temporal)\n",
    "\n",
    "The temporal datetime has to be in `yyyy-MM-ddTHH:mm:ssZ` format.\n",
    "\n",
    "The first two values of the parameter together define the temporal bounds.\n",
    "Temporal bounds can be specified as a pair of date-time values separated by a `,`. Exactly one of the two bounds of the interval can be omitted for open-ended bounds. In addition to comma separated values, one can also specify temporal ranges as [ISO 8601 time intervals](https://www.iso.org/iso-8601-date-and-time-format.html). Some examples of valid temporal range values are:\n",
    "\n",
    "- `2000-01-01T10:00:00Z,2010-03-10T12:00:00Z` matches data between 2000-01-01T10:00:00Z and 2010-03-10T12:00:00Z\n",
    "- `,2010-03-10T12:00:00Z` matches data before 2010-03-10T12:00:00Z\n",
    "- `2000-01-01T10:00:00Z,` matches data after 2010-03-10T12:00:00Z\n",
    "\n",
    "For temporal range search, the default is inclusive on the range boundaries. This can be changed by specifying an exclude_boundary option with `options[temporal][exclude_boundary]=true`. This option has no impact on periodic temporal searches.\n",
    "\n",
    "    GET https://cmr.earthdata.nasa.gov/search/granules.umm_json?collection_concept_id=foo&temporal[]=2000-01-01T10:00:00Z,2010-03-10T12:00:00Z,30,60"
   ]
  },
  {
   "cell_type": "code",
   "execution_count": 16,
   "metadata": {},
   "outputs": [
    {
     "name": "stdout",
     "output_type": "stream",
     "text": [
      "Number of granules in this collection intersecting temporal range: 16730\n"
     ]
    }
   ],
   "source": [
    "response = requests.get(\"https://cmr.earthdata.nasa.gov/search/granules.umm_json?collection_concept_id=\" + concept_id + \"&temporal[]=2021-01-01T10:00:00Z,2021-03-10T12:00:00Z,30,60\")\n",
    "print(\"Number of granules in this collection intersecting temporal range: \" + response.headers['CMR-Hits'])"
   ]
  },
  {
   "cell_type": "code",
   "execution_count": null,
   "metadata": {},
   "outputs": [],
   "source": []
  }
 ],
 "metadata": {
  "interpreter": {
   "hash": "204879fbb3b40891e6aa0891612388ad376391e423ae8a4d15e1639389896774"
  },
  "kernelspec": {
   "display_name": "Python 3.8.3 64-bit ('base': conda)",
   "name": "python3"
  },
  "language_info": {
   "name": "python",
   "version": ""
  }
 },
 "nbformat": 4,
 "nbformat_minor": 4
}