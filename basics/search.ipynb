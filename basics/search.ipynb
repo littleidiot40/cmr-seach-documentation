{
 "metadata": {
  "language_info": {
   "codemirror_mode": {
    "name": "ipython",
    "version": 3
   },
   "file_extension": ".py",
   "mimetype": "text/x-python",
   "name": "python",
   "nbconvert_exporter": "python",
   "pygments_lexer": "ipython3",
   "version": "3.8.3"
  },
  "orig_nbformat": 4,
  "kernelspec": {
   "name": "python3",
   "display_name": "Python 3.8.3 64-bit ('base': conda)"
  },
  "interpreter": {
   "hash": "204879fbb3b40891e6aa0891612388ad376391e423ae8a4d15e1639389896774"
  }
 },
 "nbformat": 4,
 "nbformat_minor": 2,
 "cells": [
  {
   "source": [
    "# The basics of querying CMR\n",
    "The simplest query to CMR is a collection-level search with no filter constraints:\n",
    "\n",
    "    GET https://cmr.earthdata.nasa.gov/search/collections\n",
    "\n",
    "We will use this query to demonstrate the basic functionality of CMR search.\n",
    "What can we do with this query?"
   ],
   "cell_type": "markdown",
   "metadata": {}
  },
  {
   "source": [
    "import requests\n",
    "import xml.dom.minidom\n",
    "\n",
    "# The simplest search request possible\n",
    "response = requests.get(\"https://cmr.earthdata.nasa.gov/search/collections\")"
   ],
   "cell_type": "code",
   "metadata": {},
   "execution_count": 9,
   "outputs": []
  },
  {
   "source": [
    "The default response is an xml document of collection result references. Let's pretty print the output."
   ],
   "cell_type": "markdown",
   "metadata": {}
  },
  {
   "cell_type": "code",
   "execution_count": 10,
   "metadata": {},
   "outputs": [
    {
     "output_type": "stream",
     "name": "stdout",
     "text": [
      "<?xml version=\"1.0\" ?>\n<results>\n\t<hits>28348</hits>\n\t<took>9</took>\n\t<references>\n\t\t<reference>\n\t\t\t<name>&quot;The Omnivores Dilemma&quot;: The Effect of Autumn Diet on Winter Physiology and Condition of Juvenile Antarctic Krill</name>\n\t\t\t<id>C1934541400-SCIOPS</id>\n\t\t\t<location>https://cmr.earthdata.nasa.gov:443/search/concepts/C1934541400-SCIOPS/1</location>\n\t\t\t<revision-id>1</revision-id>\n\t\t</reference>\n\t\t<reference>\n\t\t\t<name>'Latent reserves' within the Swiss NFI</name>\n\t\t\t<id>C1931110427-SCIOPS</id>\n\t\t\t<location>https://cmr.earthdata.nasa.gov:443/search/concepts/C1931110427-SCIOPS/5</location>\n\t\t\t<revision-id>5</revision-id>\n\t\t</reference>\n\t\t<reference>\n\t\t\t<name>(U-Th)/He ages from the Kukri Hills of southern Victoria Land</name>\n\t\t\t<id>C1214587974-SCIOPS</id>\n\t\t\t<location>https://cmr.earthdata.nasa.gov:443/search/concepts/C1214587974-SCIOPS/4</location>\n\t\t\t<revision-id>4</revision-id>\n\t\t</reference>\n\t\t<reference>\n\t\t\t<name>0.5 hour 1 M HCl extraction data for the Windmill Islands marine sediments</name>\n\t\t\t<id>C1214305813-AU_AADC</id>\n\t\t\t<location>https://cmr.earthdata.nasa.gov:443/search/concepts/C1214305813-AU_AADC/9</location>\n\t\t\t<revision-id>9</revision-id>\n\t\t</reference>\n\t\t<reference>\n\t\t\t<name>1-100Hz ULF/ELF Electromagnetic Wave Observation at Syowa Station</name>\n\t\t\t<id>C1214590112-SCIOPS</id>\n\t\t\t<location>https://cmr.earthdata.nasa.gov:443/search/concepts/C1214590112-SCIOPS/7</location>\n\t\t\t<revision-id>7</revision-id>\n\t\t</reference>\n\t\t<reference>\n\t\t\t<name>10 m firn temperature data: LGB traverses 1990-95</name>\n\t\t\t<id>C1214313574-AU_AADC</id>\n\t\t\t<location>https://cmr.earthdata.nasa.gov:443/search/concepts/C1214313574-AU_AADC/8</location>\n\t\t\t<revision-id>8</revision-id>\n\t\t</reference>\n\t\t<reference>\n\t\t\t<name>10 sec GPS ground tracking data</name>\n\t\t\t<id>C1214586614-SCIOPS</id>\n\t\t\t<location>https://cmr.earthdata.nasa.gov:443/search/concepts/C1214586614-SCIOPS/4</location>\n\t\t\t<revision-id>4</revision-id>\n\t\t</reference>\n\t\t<reference>\n\t\t\t<name>10 year trend of levels of organochlorine pollutants in Antarctic seabirds</name>\n\t\t\t<id>C1214305884-AU_AADC</id>\n\t\t\t<location>https://cmr.earthdata.nasa.gov:443/search/concepts/C1214305884-AU_AADC/9</location>\n\t\t\t<revision-id>9</revision-id>\n\t\t</reference>\n\t\t<reference>\n\t\t\t<name>10-HS Pfynwald</name>\n\t\t\t<id>C1647993129-SCIOPS</id>\n\t\t\t<location>https://cmr.earthdata.nasa.gov:443/search/concepts/C1647993129-SCIOPS/14</location>\n\t\t\t<revision-id>14</revision-id>\n\t\t</reference>\n\t\t<reference>\n\t\t\t<name>101.1 m long horizontal blue ice core collected from Scharffenbergbotnen, DML, Antarctica, in 2003/2004</name>\n\t\t\t<id>C1214614210-SCIOPS</id>\n\t\t\t<location>https://cmr.earthdata.nasa.gov:443/search/concepts/C1214614210-SCIOPS/4</location>\n\t\t\t<revision-id>4</revision-id>\n\t\t</reference>\n\t</references>\n</results>\n\n"
     ]
    }
   ],
   "source": [
    "# The default response is an xml document of result references. Let's pretty print the output\n",
    "response_as_dom = xml.dom.minidom.parseString(response.text)\n",
    "xml_reference_response = response_as_dom.toprettyxml()\n",
    "print(xml_reference_response)"
   ]
  },
  {
   "source": [
    "## Parsing the xml results\n",
    "We can extract information from the results in a programatic way using xpath"
   ],
   "cell_type": "markdown",
   "metadata": {}
  },
  {
   "source": [
    "How many collection results are there?"
   ],
   "cell_type": "markdown",
   "metadata": {}
  },
  {
   "cell_type": "code",
   "execution_count": 22,
   "metadata": {},
   "outputs": [
    {
     "output_type": "stream",
     "name": "stdout",
     "text": [
      "Total number of collection results: 28348\n"
     ]
    }
   ],
   "source": [
    "import xml.etree.ElementTree as et\n",
    "doc = et.fromstring(response.text)\n",
    "# Hits\n",
    "print(\"Total number of collection results: \" + doc.findtext('hits'))   \n"
   ]
  },
  {
   "source": [
    "How many collection results were returned?"
   ],
   "cell_type": "markdown",
   "metadata": {}
  },
  {
   "cell_type": "code",
   "execution_count": 23,
   "metadata": {},
   "outputs": [
    {
     "output_type": "stream",
     "name": "stdout",
     "text": [
      "No. of results returned: 20\n"
     ]
    }
   ],
   "source": [
    "# No. of results returned\n",
    "references = doc.findall('references/reference')\n",
    "print(\"No. of results returned: \" + str(len(references)))  \n"
   ]
  },
  {
   "source": [
    "Where is the first collection result?"
   ],
   "cell_type": "markdown",
   "metadata": {}
  },
  {
   "cell_type": "code",
   "execution_count": 24,
   "metadata": {},
   "outputs": [
    {
     "output_type": "stream",
     "name": "stdout",
     "text": [
      "First result reference: https://cmr.earthdata.nasa.gov:443/search/concepts/C1214610401-SCIOPS/3\n"
     ]
    }
   ],
   "source": [
    "# First reference\n",
    "print(\"First result reference: \" + str(references[0].find('location').text))"
   ]
  },
  {
   "source": [
    "What is the human-readable name of the first collection result?"
   ],
   "cell_type": "markdown",
   "metadata": {}
  },
  {
   "cell_type": "code",
   "execution_count": 25,
   "metadata": {},
   "outputs": [
    {
     "output_type": "stream",
     "name": "stdout",
     "text": [
      "First result name: 1982 Commodity Output by State and Input-Output Sector\n"
     ]
    }
   ],
   "source": [
    "# First name\n",
    "print(\"First result name: \" + str(references[0].find('name').text))"
   ]
  },
  {
   "source": [
    "What is the unique ID (concept-id) of the first collection result?"
   ],
   "cell_type": "markdown",
   "metadata": {}
  },
  {
   "cell_type": "code",
   "execution_count": 26,
   "metadata": {},
   "outputs": [
    {
     "output_type": "stream",
     "name": "stdout",
     "text": [
      "First result concept id: C1214610401-SCIOPS\n"
     ]
    }
   ],
   "source": [
    "print(\"First result concept id: \" + str(references[0].find('id').text))"
   ]
  },
  {
   "source": [
    "## Going further than the first 10 results\n",
    "CMR search supports paging parameters to iterate through 'pages' of results.\n",
    "You can select your page size and your page number. Page size can be a positive integer between 1 and 2000. Page number can be a positive integer.\n",
    "Note: for harvesting use cases we do not recommend paging through results. See: foo\n",
    "Let's try getting 20 results instead of the default value of 10."
   ],
   "cell_type": "markdown",
   "metadata": {}
  },
  {
   "cell_type": "code",
   "execution_count": 27,
   "metadata": {},
   "outputs": [
    {
     "output_type": "stream",
     "name": "stdout",
     "text": [
      "No. of results returned: 20\n11th result concept id: C1214422215-SCIOPS\n"
     ]
    }
   ],
   "source": [
    "response = requests.get(\"https://cmr.earthdata.nasa.gov/search/collections?page_size=20\")\n",
    "doc = et.fromstring(response.text)\n",
    "print(\"No. of results returned: \" + str(len(references))) \n",
    "references = doc.findall('references/reference')\n",
    "print(\"11th result concept id: \" + str(references[10].find('id').text)) "
   ]
  },
  {
   "source": [
    "We have retrieved the first 20 results instead of the default 10.\n",
    "Now let's try getting the next 20 results"
   ],
   "cell_type": "markdown",
   "metadata": {}
  },
  {
   "cell_type": "code",
   "execution_count": 28,
   "metadata": {},
   "outputs": [
    {
     "output_type": "stream",
     "name": "stdout",
     "text": [
      "11th result concept id: C1214610584-SCIOPS\n"
     ]
    }
   ],
   "source": [
    "response = requests.get(\"https://cmr.earthdata.nasa.gov/search/collections?page_size=20&page_num=2\")\n",
    "doc = et.fromstring(response.text)\n",
    "references = doc.findall('references/reference')\n",
    "print(\"11th result concept id: \" + str(references[10].find('id').text)) "
   ]
  },
  {
   "source": [
    "Notice that the 11th result is different because we are looking at a different page"
   ],
   "cell_type": "markdown",
   "metadata": {}
  },
  {
   "source": [
    "## Getting metadata by reference"
   ],
   "cell_type": "code",
   "metadata": {},
   "execution_count": 29,
   "outputs": []
  },
  {
   "source": [
    "## Getting metadata by search constraints"
   ],
   "cell_type": "markdown",
   "metadata": {}
  },
  {
   "source": [
    "## Getting metadata in the format you want"
   ],
   "cell_type": "markdown",
   "metadata": {}
  },
  {
   "cell_type": "code",
   "execution_count": null,
   "metadata": {},
   "outputs": [],
   "source": []
  }
 ]
}