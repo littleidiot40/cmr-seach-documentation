{
 "metadata": {
  "language_info": {
   "codemirror_mode": {
    "name": "ipython",
    "version": 3
   },
   "file_extension": ".py",
   "mimetype": "text/x-python",
   "name": "python",
   "nbconvert_exporter": "python",
   "pygments_lexer": "ipython3",
   "version": "3.8.3"
  },
  "orig_nbformat": 4,
  "kernelspec": {
   "name": "python3",
   "display_name": "Python 3.8.3 64-bit ('base': conda)"
  },
  "interpreter": {
   "hash": "204879fbb3b40891e6aa0891612388ad376391e423ae8a4d15e1639389896774"
  }
 },
 "nbformat": 4,
 "nbformat_minor": 2,
 "cells": [
  {
   "source": [
    "# The simplest CMR search query\n",
    "    GET https://cmr.earthdata.nasa.gov/search/collections\n",
    "\n",
    "What can we do with this query?"
   ],
   "cell_type": "markdown",
   "metadata": {}
  },
  {
   "source": [
    "import requests\n",
    "import xml.dom.minidom\n",
    "\n",
    "# The simplest search request possible\n",
    "response = requests.get(\"https://cmr.earthdata.nasa.gov/search/collections\")"
   ],
   "cell_type": "code",
   "metadata": {},
   "execution_count": 1,
   "outputs": []
  },
  {
   "source": [
    "The default response is an xml document of collection result references. Let's pretty print the output."
   ],
   "cell_type": "markdown",
   "metadata": {}
  },
  {
   "cell_type": "code",
   "execution_count": 3,
   "metadata": {},
   "outputs": [
    {
     "output_type": "stream",
     "name": "stdout",
     "text": [
      "<?xml version=\"1.0\" ?>\n<results>\n\t<hits>28353</hits>\n\t<took>8</took>\n\t<references>\n\t\t<reference>\n\t\t\t<name>&quot;The Omnivores Dilemma&quot;: The Effect of Autumn Diet on Winter Physiology and Condition of Juvenile Antarctic Krill</name>\n\t\t\t<id>C1934541400-SCIOPS</id>\n\t\t\t<location>https://cmr.earthdata.nasa.gov:443/search/concepts/C1934541400-SCIOPS/1</location>\n\t\t\t<revision-id>1</revision-id>\n\t\t</reference>\n\t\t<reference>\n\t\t\t<name>'Latent reserves' within the Swiss NFI</name>\n\t\t\t<id>C1931110427-SCIOPS</id>\n\t\t\t<location>https://cmr.earthdata.nasa.gov:443/search/concepts/C1931110427-SCIOPS/5</location>\n\t\t\t<revision-id>5</revision-id>\n\t\t</reference>\n\t\t<reference>\n\t\t\t<name>(U-Th)/He ages from the Kukri Hills of southern Victoria Land</name>\n\t\t\t<id>C1214587974-SCIOPS</id>\n\t\t\t<location>https://cmr.earthdata.nasa.gov:443/search/concepts/C1214587974-SCIOPS/4</location>\n\t\t\t<revision-id>4</revision-id>\n\t\t</reference>\n\t\t<reference>\n\t\t\t<name>0.5 hour 1 M HCl extraction data for the Windmill Islands marine sediments</name>\n\t\t\t<id>C1214305813-AU_AADC</id>\n\t\t\t<location>https://cmr.earthdata.nasa.gov:443/search/concepts/C1214305813-AU_AADC/9</location>\n\t\t\t<revision-id>9</revision-id>\n\t\t</reference>\n\t\t<reference>\n\t\t\t<name>1-100Hz ULF/ELF Electromagnetic Wave Observation at Syowa Station</name>\n\t\t\t<id>C1214590112-SCIOPS</id>\n\t\t\t<location>https://cmr.earthdata.nasa.gov:443/search/concepts/C1214590112-SCIOPS/7</location>\n\t\t\t<revision-id>7</revision-id>\n\t\t</reference>\n\t\t<reference>\n\t\t\t<name>10 m firn temperature data: LGB traverses 1990-95</name>\n\t\t\t<id>C1214313574-AU_AADC</id>\n\t\t\t<location>https://cmr.earthdata.nasa.gov:443/search/concepts/C1214313574-AU_AADC/8</location>\n\t\t\t<revision-id>8</revision-id>\n\t\t</reference>\n\t\t<reference>\n\t\t\t<name>10 sec GPS ground tracking data</name>\n\t\t\t<id>C1214586614-SCIOPS</id>\n\t\t\t<location>https://cmr.earthdata.nasa.gov:443/search/concepts/C1214586614-SCIOPS/4</location>\n\t\t\t<revision-id>4</revision-id>\n\t\t</reference>\n\t\t<reference>\n\t\t\t<name>10 year trend of levels of organochlorine pollutants in Antarctic seabirds</name>\n\t\t\t<id>C1214305884-AU_AADC</id>\n\t\t\t<location>https://cmr.earthdata.nasa.gov:443/search/concepts/C1214305884-AU_AADC/9</location>\n\t\t\t<revision-id>9</revision-id>\n\t\t</reference>\n\t\t<reference>\n\t\t\t<name>10-HS Pfynwald</name>\n\t\t\t<id>C1647993129-SCIOPS</id>\n\t\t\t<location>https://cmr.earthdata.nasa.gov:443/search/concepts/C1647993129-SCIOPS/14</location>\n\t\t\t<revision-id>14</revision-id>\n\t\t</reference>\n\t\t<reference>\n\t\t\t<name>101.1 m long horizontal blue ice core collected from Scharffenbergbotnen, DML, Antarctica, in 2003/2004</name>\n\t\t\t<id>C1214614210-SCIOPS</id>\n\t\t\t<location>https://cmr.earthdata.nasa.gov:443/search/concepts/C1214614210-SCIOPS/4</location>\n\t\t\t<revision-id>4</revision-id>\n\t\t</reference>\n\t</references>\n</results>\n\n"
     ]
    }
   ],
   "source": [
    "# The default response is an xml document of result references. Let's pretty print the output\n",
    "response_as_dom = xml.dom.minidom.parseString(response.text)\n",
    "xml_reference_response = response_as_dom.toprettyxml()\n",
    "print(xml_reference_response)"
   ]
  },
  {
   "source": [
    "How many collection results are there?"
   ],
   "cell_type": "markdown",
   "metadata": {}
  },
  {
   "cell_type": "code",
   "execution_count": 4,
   "metadata": {},
   "outputs": [
    {
     "output_type": "stream",
     "name": "stdout",
     "text": [
      "Hits: 28353\n"
     ]
    }
   ],
   "source": [
    "import xml.etree.ElementTree as et\n",
    "doc = et.fromstring(response.text)\n",
    "# Hits\n",
    "print(\"Hits: \" + doc.findtext('hits'))   \n"
   ]
  },
  {
   "source": [
    "How many collection results were returned?"
   ],
   "cell_type": "markdown",
   "metadata": {}
  },
  {
   "cell_type": "code",
   "execution_count": 5,
   "metadata": {},
   "outputs": [
    {
     "output_type": "stream",
     "name": "stdout",
     "text": [
      "No. of results returned: 10\n"
     ]
    }
   ],
   "source": [
    "# No. of results returned\n",
    "references = doc.findall('references/reference')\n",
    "print(\"No. of results returned: \" + str(len(references)))  \n"
   ]
  },
  {
   "source": [
    "Where is the first collection result?"
   ],
   "cell_type": "markdown",
   "metadata": {}
  },
  {
   "cell_type": "code",
   "execution_count": 6,
   "metadata": {},
   "outputs": [
    {
     "output_type": "stream",
     "name": "stdout",
     "text": [
      "First result reference: https://cmr.earthdata.nasa.gov:443/search/concepts/C1934541400-SCIOPS/1\n"
     ]
    }
   ],
   "source": [
    "# First reference\n",
    "print(\"First result reference: \" + str(references[0].find('location').text))"
   ]
  },
  {
   "source": [
    "What is the human-readable name of the first collection result?"
   ],
   "cell_type": "markdown",
   "metadata": {}
  },
  {
   "cell_type": "code",
   "execution_count": 7,
   "metadata": {},
   "outputs": [
    {
     "output_type": "stream",
     "name": "stdout",
     "text": [
      "First result name: \"The Omnivores Dilemma\": The Effect of Autumn Diet on Winter Physiology and Condition of Juvenile Antarctic Krill\n"
     ]
    }
   ],
   "source": [
    "# First name\n",
    "print(\"First result name: \" + str(references[0].find('name').text))"
   ]
  },
  {
   "source": [
    "What is the unique ID (concept-id) of the first collection result?"
   ],
   "cell_type": "markdown",
   "metadata": {}
  },
  {
   "cell_type": "code",
   "execution_count": 8,
   "metadata": {},
   "outputs": [
    {
     "output_type": "stream",
     "name": "stdout",
     "text": [
      "First result concept id: C1934541400-SCIOPS\n"
     ]
    }
   ],
   "source": [
    "print(\"First result concept id: \" + str(references[0].find('id').text))"
   ]
  },
  {
   "cell_type": "code",
   "execution_count": null,
   "metadata": {},
   "outputs": [],
   "source": []
  }
 ]
}