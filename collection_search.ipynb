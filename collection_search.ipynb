{
 "metadata": {
  "language_info": {
   "codemirror_mode": {
    "name": "ipython",
    "version": 3
   },
   "file_extension": ".py",
   "mimetype": "text/x-python",
   "name": "python",
   "nbconvert_exporter": "python",
   "pygments_lexer": "ipython3",
   "version": "3.9.5"
  },
  "orig_nbformat": 4,
  "kernelspec": {
   "name": "python3",
   "display_name": "Python 3.9.5 64-bit"
  },
  "interpreter": {
   "hash": "03b01c6820ad4339739eddb87a4c5dc85eba454efc40979bb130493683c9b0dc"
  }
 },
 "nbformat": 4,
 "nbformat_minor": 2,
 "cells": [
  {
   "source": [
    "# Search for collections with CMR search"
   ],
   "cell_type": "markdown",
   "metadata": {}
  },
  {
   "cell_type": "code",
   "execution_count": 1,
   "metadata": {},
   "outputs": [],
   "source": [
    "import requests\n",
    "from xml.dom.minidom import parse, parseString"
   ]
  },
  {
   "source": [
    "## Find all collections\n",
    "This request returns all collections with no filtering."
   ],
   "cell_type": "markdown",
   "metadata": {}
  },
  {
   "cell_type": "code",
   "execution_count": 2,
   "metadata": {},
   "outputs": [
    {
     "output_type": "stream",
     "name": "stdout",
     "text": [
      "28347 hits\n"
     ]
    }
   ],
   "source": [
    "response = requests.get(\"https://cmr.earthdata.nasa.gov/search/collections\")\n",
    "print(response.headers['CMR-Hits'] + \" hits\")"
   ]
  },
  {
   "source": [
    "## Find a collection by concept id\n",
    "We can add a concept id constraint to the search to get the collection matching that concept id.\n",
    "\n",
    "A CMR concept id is in the format `<concept-type-prefix> <unique-number> \"-\" <provider-id>`\n",
    "\n",
    "* `concept-type-prefix` is a single capital letter prefix indicating the concept type. \"C\" is used for collections\n",
    "* `unique-number` is a single number assigned by the CMR during ingest.\n",
    "* `provider-id` is the short name for the provider. i.e. \"LPDAAC_ECS\""
   ],
   "cell_type": "markdown",
   "metadata": {}
  },
  {
   "cell_type": "code",
   "execution_count": 3,
   "metadata": {},
   "outputs": [
    {
     "output_type": "stream",
     "name": "stdout",
     "text": [
      "The following collection has the content_id C1934541400-SCIOPS:\n\n<?xml version=\"1.0\" ?>\n<results>\n\t<hits>1</hits>\n\t<took>38</took>\n\t<references>\n\t\t<reference>\n\t\t\t<name>&quot;The Omnivores Dilemma&quot;: The Effect of Autumn Diet on Winter Physiology and Condition of Juvenile Antarctic Krill</name>\n\t\t\t<id>C1934541400-SCIOPS</id>\n\t\t\t<location>https://cmr.earthdata.nasa.gov:443/search/concepts/C1934541400-SCIOPS/1</location>\n\t\t\t<revision-id>1</revision-id>\n\t\t</reference>\n\t</references>\n</results>\n\n"
     ]
    }
   ],
   "source": [
    "content_id = \"C1934541400-SCIOPS\"\n",
    "response = requests.get(\"https://cmr.earthdata.nasa.gov/search/collections?concept_id=\" + content_id)\n",
    "print(\"The following collection has the content_id \" + content_id + \":\\n\")\n",
    "pretty = parseString(response.content).toprettyxml()\n",
    "print(pretty)"
   ]
  }
 ]
}