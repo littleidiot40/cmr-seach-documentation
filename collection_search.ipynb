{
 "cells": [
  {
   "cell_type": "markdown",
   "metadata": {},
   "source": [
    "# Search for collections with CMR search"
   ]
  },
  {
   "cell_type": "code",
   "execution_count": null,
   "metadata": {},
   "outputs": [],
   "source": [
    "import requests\n",
    "from xml.dom.minidom import parse, parseString"
   ]
  },
  {
   "cell_type": "markdown",
   "metadata": {},
   "source": [
    "## Find all collections\n",
    "This request returns all collections with no filtering. [Reference](https://cmr.earthdata.nasa.gov/search/site/docs/search/api.html#find-all-collections)"
   ]
  },
  {
   "cell_type": "code",
   "execution_count": null,
   "metadata": {},
   "outputs": [],
   "source": [
    "response = requests.get(\"https://cmr.earthdata.nasa.gov/search/collections\")\n",
    "print(response.headers['CMR-Hits'] + \" hits\")"
   ]
  },
  {
   "cell_type": "markdown",
   "metadata": {},
   "source": [
    "## Find a collection by concept id\n",
    "We can add a concept id constraint to the search to get the collection matching that concept id. [Reference](https://cmr.earthdata.nasa.gov/search/site/docs/search/api.html#c-concept-id)\n",
    "\n",
    "A CMR concept id is in the format `<concept-type-prefix> <unique-number> \"-\" <provider-id>`\n",
    "\n",
    "* `concept-type-prefix` is a single capital letter prefix indicating the concept type. \"C\" is used for collections\n",
    "* `unique-number` is a single number assigned by the CMR during ingest.\n",
    "* `provider-id` is the short name for the provider. i.e. \"LPDAAC_ECS\""
   ]
  },
  {
   "cell_type": "code",
   "execution_count": null,
   "metadata": {},
   "outputs": [],
   "source": [
    "concept_id = \"C1934541400-SCIOPS\"\n",
    "response = requests.get(\"https://cmr.earthdata.nasa.gov/search/collections?concept_id=\" + concept_id)\n",
    "print(\"The following collection has the content_id \" + concept_id + \":\\n\")\n",
    "pretty = parseString(response.content).toprettyxml()\n",
    "print(pretty)"
   ]
  }
 ],
 "metadata": {
  "interpreter": {
   "hash": "204879fbb3b40891e6aa0891612388ad376391e423ae8a4d15e1639389896774"
  },
  "kernelspec": {
   "display_name": "Python 3.8.3 64-bit ('base': conda)",
   "name": "python3"
  },
  "language_info": {
   "name": "python",
   "version": ""
  },
  "orig_nbformat": 4
 },
 "nbformat": 4,
 "nbformat_minor": 2
}