{
 "metadata": {
  "language_info": {
   "codemirror_mode": {
    "name": "ipython",
    "version": 3
   },
   "file_extension": ".py",
   "mimetype": "text/x-python",
   "name": "python",
   "nbconvert_exporter": "python",
   "pygments_lexer": "ipython3",
   "version": "3.9.5"
  },
  "orig_nbformat": 4,
  "kernelspec": {
   "name": "python3",
   "display_name": "Python 3.9.5 64-bit"
  },
  "interpreter": {
   "hash": "03b01c6820ad4339739eddb87a4c5dc85eba454efc40979bb130493683c9b0dc"
  }
 },
 "nbformat": 4,
 "nbformat_minor": 2,
 "cells": [
  {
   "source": [
    "# Search for collections with CMR search"
   ],
   "cell_type": "markdown",
   "metadata": {}
  },
  {
   "cell_type": "code",
   "execution_count": 35,
   "metadata": {},
   "outputs": [],
   "source": [
    "import requests\n",
    "from xml.dom.minidom import parse, parseString\n",
    "def prettyprint(response):\n",
    "    pretty = parseString(response.content).toprettyxml()\n",
    "    print(pretty)\n",
    "def printhits(response):\n",
    "    print(response.headers['CMR-Hits'] + \" hits\")"
   ]
  },
  {
   "source": [
    "## Find all collections\n",
    "This request returns all collections with no filtering."
   ],
   "cell_type": "markdown",
   "metadata": {}
  },
  {
   "cell_type": "code",
   "execution_count": 36,
   "metadata": {},
   "outputs": [
    {
     "output_type": "stream",
     "name": "stdout",
     "text": [
      "28347 hits\n"
     ]
    }
   ],
   "source": [
    "response = requests.get(\"https://cmr.earthdata.nasa.gov/search/collections\")\n",
    "printhits(response)"
   ]
  },
  {
   "source": [
    "## Find a collection by concept id\n",
    "We can add a concept id constraint to the search to get the collection matching that concept id.\n",
    "\n",
    "A CMR concept id is in the format `<concept-type-prefix> <unique-number> \"-\" <provider-id>`\n",
    "\n",
    "* `concept-type-prefix` is a single capital letter prefix indicating the concept type. \"C\" is used for collections\n",
    "* `unique-number` is a single number assigned by the CMR during ingest.\n",
    "* `provider-id` is the short name for the provider. i.e. \"LPDAAC_ECS\""
   ],
   "cell_type": "markdown",
   "metadata": {}
  },
  {
   "cell_type": "code",
   "execution_count": 37,
   "metadata": {},
   "outputs": [
    {
     "output_type": "stream",
     "name": "stdout",
     "text": [
      "The following collection has the content_id C1934541400-SCIOPS:\n\n<?xml version=\"1.0\" ?>\n<results>\n\t<hits>1</hits>\n\t<took>9</took>\n\t<references>\n\t\t<reference>\n\t\t\t<name>&quot;The Omnivores Dilemma&quot;: The Effect of Autumn Diet on Winter Physiology and Condition of Juvenile Antarctic Krill</name>\n\t\t\t<id>C1934541400-SCIOPS</id>\n\t\t\t<location>https://cmr.earthdata.nasa.gov:443/search/concepts/C1934541400-SCIOPS/1</location>\n\t\t\t<revision-id>1</revision-id>\n\t\t</reference>\n\t</references>\n</results>\n\n"
     ]
    }
   ],
   "source": [
    "content_id = \"C1934541400-SCIOPS\"\n",
    "response = requests.get(\"https://cmr.earthdata.nasa.gov/search/collections?concept_id=\" + content_id)\n",
    "print(\"The following collection has the content_id \" + content_id + \":\\n\")\n",
    "prettyprint(response)"
   ]
  },
  {
   "source": [
    "## Find collections by doi value\n",
    "Find a collection matching a collection doi value. Note more than one doi value may be supplied."
   ],
   "cell_type": "markdown",
   "metadata": {}
  },
  {
   "cell_type": "code",
   "execution_count": 38,
   "metadata": {},
   "outputs": [
    {
     "output_type": "stream",
     "name": "stdout",
     "text": [
      "0 hits\n"
     ]
    }
   ],
   "source": [
    "doi = \"*\"\n",
    "response = requests.get(\"https://cmr.earthdata.nasa.gov/search/collections?doi=\" + doi)\n",
    "printhits(response)"
   ]
  },
  {
   "cell_type": "code",
   "execution_count": 39,
   "metadata": {},
   "outputs": [
    {
     "output_type": "stream",
     "name": "stdout",
     "text": [
      "0 hits\n"
     ]
    }
   ],
   "source": [
    "doi1 = \"1*\"\n",
    "doi2 = \"2*\"\n",
    "response = requests.get(\"https://cmr.earthdata.nasa.gov/search/collections?doi=\" + doi1 + \"&doi=\" + doi2)\n",
    "printhits(response)"
   ]
  },
  {
   "source": [
    "## Find collections by echo collection id \n",
    "Find a collection matching a echo collection id. Note more than one echo collection id may be supplied."
   ],
   "cell_type": "markdown",
   "metadata": {}
  },
  {
   "cell_type": "code",
   "execution_count": 40,
   "metadata": {},
   "outputs": [
    {
     "output_type": "stream",
     "name": "stdout",
     "text": [
      "0 hits\n"
     ]
    }
   ],
   "source": []
  },
  {
   "cell_type": "code",
   "execution_count": null,
   "metadata": {},
   "outputs": [],
   "source": [
    "response = requests.get(\"https://cmr.earthdata.nasa.gov/search/collections?echo_collection_id=C1000000001-CMR_PROV2\")\n",
    "printhits(response)"
   ]
  },
  {
   "source": [
    "## <a name=\"c-provider-short-name\"></a> Find collections by provider short name\n",
    "\n",
    "This searches for collections whose provider matches the given provider short names. This supports `ignore_case` option, but not the `pattern` option."
   ],
   "cell_type": "markdown",
   "metadata": {}
  },
  {
   "cell_type": "code",
   "execution_count": 41,
   "metadata": {},
   "outputs": [
    {
     "output_type": "stream",
     "name": "stdout",
     "text": [
      "0 hits\n"
     ]
    }
   ],
   "source": [
    "response = requests.get(\"https://cmr.earthdata.nasa.gov/search/collections?provider_short_name=SHORT_5&options[provider_short_name][ignore_case]=true\")\n",
    "printhits(response)"
   ]
  },
  {
   "source": [
    "## Find collections by entry title\n",
    "\n",
    "One entry title"
   ],
   "cell_type": "markdown",
   "metadata": {}
  },
  {
   "cell_type": "code",
   "execution_count": 42,
   "metadata": {},
   "outputs": [
    {
     "output_type": "stream",
     "name": "stdout",
     "text": [
      "0 hits\n"
     ]
    }
   ],
   "source": [
    "response = requests.get(\"https://cmr.earthdata.nasa.gov/search/collections?entry_title=DatasetId%204\")\n",
    "printhits(response)"
   ]
  },
  {
   "source": [
    "a dataset id (alias for entry title)"
   ],
   "cell_type": "markdown",
   "metadata": {}
  },
  {
   "cell_type": "code",
   "execution_count": 43,
   "metadata": {},
   "outputs": [
    {
     "output_type": "stream",
     "name": "stdout",
     "text": [
      "0 hits\n"
     ]
    }
   ],
   "source": [
    "response = requests.get(\"https://cmr.earthdata.nasa.gov/search/collections?dataset_id=DatasetId%204\")\n",
    "printhits(response)"
   ]
  },
  {
   "source": [
    "with multiple dataset ids"
   ],
   "cell_type": "markdown",
   "metadata": {}
  },
  {
   "cell_type": "code",
   "execution_count": 44,
   "metadata": {},
   "outputs": [
    {
     "output_type": "stream",
     "name": "stdout",
     "text": [
      "0 hits\n"
     ]
    }
   ],
   "source": [
    "response = requests.get(\"https://cmr.earthdata.nasa.gov/search/collections?entry_title=DatasetId%204&entry_title=DatasetId%205\")\n",
    "printhits(response)"
   ]
  },
  {
   "source": [
    "with a entry title case insensitively"
   ],
   "cell_type": "markdown",
   "metadata": {}
  },
  {
   "cell_type": "code",
   "execution_count": 45,
   "metadata": {},
   "outputs": [
    {
     "output_type": "stream",
     "name": "stdout",
     "text": [
      "0 hits\n"
     ]
    }
   ],
   "source": [
    "response = requests.get(\"https://cmr.earthdata.nasa.gov/search/collections?entry_title=datasetId%204&options[entry_title][ignore_case]=true\")\n",
    "printhits(response)"
   ]
  },
  {
   "source": [
    "with a entry title pattern\n"
   ],
   "cell_type": "markdown",
   "metadata": {}
  },
  {
   "cell_type": "code",
   "execution_count": 46,
   "metadata": {},
   "outputs": [
    {
     "output_type": "stream",
     "name": "stdout",
     "text": [
      "0 hits\n"
     ]
    }
   ],
   "source": [
    "response = requests.get(\"https://cmr.earthdata.nasa.gov/search/collections?entry_title=DatasetId*&options[entry_title][pattern]=true\")\n",
    "printhits(response)"
   ]
  },
  {
   "source": [
    "## Find collections by entry id\n",
    "\n",
    "One entry id"
   ],
   "cell_type": "markdown",
   "metadata": {}
  },
  {
   "cell_type": "code",
   "execution_count": 47,
   "metadata": {},
   "outputs": [
    {
     "output_type": "stream",
     "name": "stdout",
     "text": [
      "0 hits\n"
     ]
    }
   ],
   "source": [
    "response = requests.get(\"https://cmr.earthdata.nasa.gov/search/collections?entry_id=SHORT_V5\")\n",
    "printhits(response)"
   ]
  },
  {
   "source": [
    "## Find collections by archive center\n",
    "\n",
    "This supports `pattern` and `ignore_case`.\n",
    "\n",
    "Find collections matching 'archive_center' param value"
   ],
   "cell_type": "markdown",
   "metadata": {}
  },
  {
   "cell_type": "code",
   "execution_count": 48,
   "metadata": {},
   "outputs": [
    {
     "output_type": "stream",
     "name": "stdout",
     "text": [
      "33 hits\n"
     ]
    }
   ],
   "source": [
    "response = requests.get(\"https://cmr.earthdata.nasa.gov/search/collections?archive_center=LARC\")\n",
    "printhits(response)"
   ]
  },
  {
   "cell_type": "code",
   "execution_count": 49,
   "metadata": {},
   "outputs": [
    {
     "output_type": "stream",
     "name": "stdout",
     "text": [
      "0 hits\n"
     ]
    }
   ],
   "source": [
    "response = requests.get(\"https://cmr.earthdata.nasa.gov/search/collections?archive_center=Sedac+AC\")\n",
    "printhits(response)"
   ]
  },
  {
   "source": [
    "Find collections matching any of the 'archive_center' param values\n"
   ],
   "cell_type": "markdown",
   "metadata": {}
  },
  {
   "cell_type": "code",
   "execution_count": 50,
   "metadata": {},
   "outputs": [
    {
     "output_type": "stream",
     "name": "stdout",
     "text": [
      "291 hits\n"
     ]
    }
   ],
   "source": [
    "response = requests.get(\"https://cmr.earthdata.nasa.gov/search/collections?archive_center=Larc&archive_center=SEDAC\")\n",
    "printhits(response)"
   ]
  },
  {
   "source": [
    "## Find collections by data center\n",
    "\n",
    "This supports `pattern`, `and`, and `ignore_case`.\n",
    "\n",
    "Find collections matching 'data_center' param value"
   ],
   "cell_type": "markdown",
   "metadata": {}
  },
  {
   "cell_type": "code",
   "execution_count": 51,
   "metadata": {},
   "outputs": [
    {
     "output_type": "stream",
     "name": "stdout",
     "text": [
      "33 hits\n"
     ]
    }
   ],
   "source": [
    "response = requests.get(\"https://cmr.earthdata.nasa.gov/search/collections?data_center=LARC\")\n",
    "printhits(response)"
   ]
  },
  {
   "cell_type": "code",
   "execution_count": 52,
   "metadata": {},
   "outputs": [
    {
     "output_type": "stream",
     "name": "stdout",
     "text": [
      "0 hits\n"
     ]
    }
   ],
   "source": [
    "response = requests.get(\"https://cmr.earthdata.nasa.gov/search/collections?data_center=Sedac+AC\")\n",
    "printhits(response)"
   ]
  },
  {
   "source": [
    "Find collections matching any of the 'data_center' param values"
   ],
   "cell_type": "markdown",
   "metadata": {}
  },
  {
   "cell_type": "code",
   "execution_count": 53,
   "metadata": {},
   "outputs": [
    {
     "output_type": "stream",
     "name": "stdout",
     "text": [
      "291 hits\n"
     ]
    }
   ],
   "source": [
    "response = requests.get(\"https://cmr.earthdata.nasa.gov/search/collections?data_center=Larc&data_center=SEDAC\")\n",
    "printhits(response)"
   ]
  },
  {
   "source": [
    "## Find collections with temporal\n",
    "\n",
    "The temporal datetime has to be in yyyy-MM-ddTHH:mm:ssZ format."
   ],
   "cell_type": "markdown",
   "metadata": {}
  },
  {
   "cell_type": "code",
   "execution_count": 54,
   "metadata": {},
   "outputs": [
    {
     "output_type": "stream",
     "name": "stdout",
     "text": [
      "20998 hits\n"
     ]
    }
   ],
   "source": [
    "response = requests.get(\"https://cmr.earthdata.nasa.gov/search/collections?temporal=2000-01-01T10:00:00Z,2010-03-10T12:00:00Z,30,60&temporal=2000-01-01T10:00:00Z,,30&temporal=2000-01-01T10:00:00Z,2010-03-10T12:00:00Z\")\n",
    "printhits(response)"
   ]
  },
  {
   "source": [
    "The first two values of the parameter together define the temporal bounds. See under [Temporal Range searches](https://cmr.earthdata.nasa.gov/search/site/docs/search/api.html#temporal-range-searches) for different ways of specifying the temporal bounds including ISO 8601.\n",
    "\n",
    "For temporal range search, the default is inclusive on the range boundaries. This can be changed by specifying `exclude_boundary` option with `options[temporal][exclude_boundary]=true`. This option has no impact on periodic temporal searches.\n",
    "\n",
    "The collection's temporal range or the temporal range of the granules in the collection can be searched. `options[temporal][limit_to_granules]=true` will indicate that the temporal search should find collections based on the minimum and maximum values of each collection's granules' temporal range. If a collection does not have any granules it will search the collection's temporal range.\n",
    "\n",
    "If a temporal range search is performed, the search results will be sorted by the temporal overlap across all ranges provided, with usage score being the tie-breaker. If a keyword search is performed in conjunction with the temporal range search, search results are first sorted by relevancy score, then by temporal overlap, then usage score. If a keyword search is used in conjuction with usage-score sort key, the usage-score will be used instead of relevancy score."
   ],
   "cell_type": "markdown",
   "metadata": {}
  },
  {
   "source": [
    "## Find collections by project\n",
    "\n",
    "Note: An alias for the parameter 'project' is 'campaign'. As such 'campaign' can be used in place of 'project'.\n",
    "\n",
    "This supports `pattern`, `ignore_case` and option `and`.\n",
    "\n",
    "Find collections matching 'project' param value"
   ],
   "cell_type": "markdown",
   "metadata": {}
  },
  {
   "cell_type": "code",
   "execution_count": 55,
   "metadata": {},
   "outputs": [
    {
     "output_type": "stream",
     "name": "stdout",
     "text": [
      "4 hits\n"
     ]
    }
   ],
   "source": [
    "response = requests.get(\"https://cmr.earthdata.nasa.gov/search/collections?project=ESI\")\n",
    "printhits(response)"
   ]
  },
  {
   "source": [
    "Find collections matching any of the 'project' param values"
   ],
   "cell_type": "markdown",
   "metadata": {}
  },
  {
   "cell_type": "code",
   "execution_count": 56,
   "metadata": {},
   "outputs": [
    {
     "output_type": "stream",
     "name": "stdout",
     "text": [
      "12 hits\n"
     ]
    }
   ],
   "source": [
    "response = requests.get(\"https://cmr.earthdata.nasa.gov/search/collections?project=ESI&project=EVI&project=EPI\")\n",
    "printhits(response)"
   ]
  },
  {
   "source": [
    "Find collections that match all of the 'project' param values\n"
   ],
   "cell_type": "markdown",
   "metadata": {}
  },
  {
   "cell_type": "code",
   "execution_count": 57,
   "metadata": {},
   "outputs": [
    {
     "output_type": "stream",
     "name": "stdout",
     "text": [
      "0 hits\n"
     ]
    }
   ],
   "source": [
    "response = requests.get(\"https://cmr.earthdata.nasa.gov/search/collections?project=ESI&project=EVI&project=EPI&options[project][and]=true\")\n",
    "printhits(response)"
   ]
  },
  {
   "source": [
    "## Find collections by updated_since\n",
    "\n",
    "  Find collections which have revision date starting at or after 'updated_since' param value"
   ],
   "cell_type": "markdown",
   "metadata": {}
  },
  {
   "cell_type": "code",
   "execution_count": 58,
   "metadata": {},
   "outputs": [
    {
     "output_type": "stream",
     "name": "stdout",
     "text": [
      "28347 hits\n"
     ]
    }
   ],
   "source": [
    "response = requests.get(\"https://cmr.earthdata.nasa.gov/search/collections?updated_since=2014-05-08T20:06:38.331Z\")\n",
    "printhits(response)"
   ]
  },
  {
   "source": [
    "## Find collections by created_at\n",
    "\n",
    " This supports option `and`.\n",
    "\n",
    " Find collections which were created within the ranges of datetimes. The datetime has to be in yyyy-MM-ddTHH:mm:ssZ format. The default is inclusive on the range boundaries."
   ],
   "cell_type": "markdown",
   "metadata": {}
  },
  {
   "cell_type": "code",
   "execution_count": 59,
   "metadata": {},
   "outputs": [
    {
     "output_type": "stream",
     "name": "stdout",
     "text": [
      "28111 hits\n"
     ]
    }
   ],
   "source": [
    "response = requests.get(\"https://cmr.earthdata.nasa.gov/search/collections?created_at=2000-01-01T10:00:00Z,2010-03-10T12:00:00Z&created_at=2015-01-01T10:00:00Z,\")\n",
    "printhits(response)"
   ]
  },
  {
   "source": [
    "## Find collections with new granules\n",
    "\n",
    "  This supports option `and`.\n",
    "\n",
    "  Find collections containing granules added within the range of datetimes. The datetime has to be in yyyy-MM-ddTHH:mm:ssZ format. The default is inclusive on the range boundaries."
   ],
   "cell_type": "markdown",
   "metadata": {}
  },
  {
   "cell_type": "code",
   "execution_count": 60,
   "metadata": {},
   "outputs": [
    {
     "output_type": "stream",
     "name": "stdout",
     "text": [
      "7707 hits\n"
     ]
    }
   ],
   "source": [
    "response = requests.get(\"https://cmr.earthdata.nasa.gov/search/collections?has_granules_created_at=2015-01-01T10:00:00Z\")\n",
    "printhits(response)"
   ]
  },
  {
   "source": [
    "## Find collections with granules revised inside of a given range\n",
    "\n",
    "  This supports option `and`.\n",
    "\n",
    "  Find collections containing granules created or updated within the range of datetimes. The datetime has to be in yyyy-MM-ddTHH:mm:ssZ format. The default is inclusive on the range boundaries."
   ],
   "cell_type": "markdown",
   "metadata": {}
  },
  {
   "cell_type": "code",
   "execution_count": 61,
   "metadata": {},
   "outputs": [
    {
     "output_type": "stream",
     "name": "stdout",
     "text": [
      "7710 hits\n"
     ]
    }
   ],
   "source": [
    "response = requests.get(\"https://cmr.earthdata.nasa.gov/search/collections?has_granules_revised_at=2015-01-01T10:00:00Z,\")\n",
    "printhits(response)"
   ]
  },
  {
   "source": [
    "## Find collections by revision_date\n",
    "\n",
    "  This supports option `and`.\n",
    "\n",
    "  Find collections which have revision date within the ranges of datetimes. The datetime has to be in yyyy-MM-ddTHH:mm:ssZ format. The default is inclusive on the range boundaries."
   ],
   "cell_type": "markdown",
   "metadata": {}
  },
  {
   "cell_type": "code",
   "execution_count": 62,
   "metadata": {},
   "outputs": [
    {
     "output_type": "stream",
     "name": "stdout",
     "text": [
      "28347 hits\n"
     ]
    }
   ],
   "source": [
    "response = requests.get(\"https://cmr.earthdata.nasa.gov/search/collections?revision_date=2000-01-01T10:00:00Z,2010-03-10T12:00:00Z&revision_date=2015-01-01T10:00:00Z,\")\n",
    "printhits(response)"
   ]
  },
  {
   "source": [
    "## Find collections by processing\\_level\\_id\n",
    "\n",
    "This supports `pattern` and `ignore_case`.\n",
    "\n",
    "Find collections matching 'processing_level_id'"
   ],
   "cell_type": "markdown",
   "metadata": {}
  },
  {
   "cell_type": "code",
   "execution_count": 63,
   "metadata": {},
   "outputs": [
    {
     "output_type": "stream",
     "name": "stdout",
     "text": [
      "473 hits\n"
     ]
    }
   ],
   "source": [
    "response = requests.get(\"https://cmr.earthdata.nasa.gov/search/collections?processing_level_id=1B\")\n",
    "printhits(response)"
   ]
  },
  {
   "source": [
    "Find collections matching any of the 'processing\\_level\\_id' param values"
   ],
   "cell_type": "markdown",
   "metadata": {}
  },
  {
   "cell_type": "code",
   "execution_count": 64,
   "metadata": {},
   "outputs": [
    {
     "output_type": "stream",
     "name": "stdout",
     "text": [
      "475 hits\n"
     ]
    }
   ],
   "source": [
    "response = requests.get(\"https://cmr.earthdata.nasa.gov/search/collections?processing_level_id=1B&processing_level_id=2B\")\n",
    "printhits(response)"
   ]
  },
  {
   "source": [
    "The alias 'processing_level' also works for searching by processing level id.\n",
    "\n",
    "## Find collections by platform\n",
    "\n",
    "This supports `pattern`, `ignore_case` and option `and`.\n",
    "\n",
    "Find collections matching 'platform' param value"
   ],
   "cell_type": "markdown",
   "metadata": {}
  },
  {
   "cell_type": "code",
   "execution_count": 65,
   "metadata": {},
   "outputs": [
    {
     "output_type": "stream",
     "name": "stdout",
     "text": [
      "0 hits\n"
     ]
    }
   ],
   "source": [
    "response = requests.get(\"https://cmr.earthdata.nasa.gov/search/collections?platform=1B\")\n",
    "printhits(response)"
   ]
  },
  {
   "source": [
    "Find collections matching any of the 'platform' param values"
   ],
   "cell_type": "markdown",
   "metadata": {}
  },
  {
   "cell_type": "code",
   "execution_count": 66,
   "metadata": {},
   "outputs": [
    {
     "output_type": "stream",
     "name": "stdout",
     "text": [
      "0 hits\n"
     ]
    }
   ],
   "source": [
    "response = requests.get(\"https://cmr.earthdata.nasa.gov/search/collections?platform=1B&platform=2B\")\n",
    "printhits(response)"
   ]
  },
  {
   "source": [
    "## Find collections by instrument\n",
    "\n",
    "This supports `pattern`, `ignore_case` and option `and`.\n",
    "\n",
    "Find collections matching 'instrument' param value"
   ],
   "cell_type": "markdown",
   "metadata": {}
  },
  {
   "cell_type": "code",
   "execution_count": 67,
   "metadata": {},
   "outputs": [
    {
     "output_type": "stream",
     "name": "stdout",
     "text": [
      "0 hits\n"
     ]
    }
   ],
   "source": [
    "response = requests.get(\"https://cmr.earthdata.nasa.gov/search/collections?instrument=1B\")\n",
    "printhits(response)"
   ]
  },
  {
   "source": [
    "Find collections matching any of the 'instrument' param values"
   ],
   "cell_type": "markdown",
   "metadata": {}
  },
  {
   "cell_type": "code",
   "execution_count": 68,
   "metadata": {},
   "outputs": [
    {
     "output_type": "stream",
     "name": "stdout",
     "text": [
      "0 hits\n"
     ]
    }
   ],
   "source": [
    "response = requests.get(\"https://cmr.earthdata.nasa.gov/search/collections?instrument=1B&instrument=2B\")\n",
    "printhits(response)"
   ]
  },
  {
   "source": [
    "## Find collections by sensor.\n",
    "\n",
    "Sensor search is deprecated and should be replaced with instrument. Sensors are now child instruments on an instrument.\n",
    "\n",
    "This supports `pattern`, `ignore_case` and option `and`.\n",
    "\n",
    "Find collections matching 'sensor' param value"
   ],
   "cell_type": "markdown",
   "metadata": {}
  },
  {
   "cell_type": "code",
   "execution_count": 69,
   "metadata": {},
   "outputs": [
    {
     "output_type": "stream",
     "name": "stdout",
     "text": [
      "0 hits\n"
     ]
    }
   ],
   "source": [
    "response = requests.get(\"https://cmr.earthdata.nasa.gov/search/collections?sensor=1B\")\n",
    "printhits(response)"
   ]
  },
  {
   "source": [
    "Find collections matching any of the 'sensor' param values"
   ],
   "cell_type": "markdown",
   "metadata": {}
  },
  {
   "cell_type": "code",
   "execution_count": 70,
   "metadata": {},
   "outputs": [
    {
     "output_type": "stream",
     "name": "stdout",
     "text": [
      "0 hits\n"
     ]
    }
   ],
   "source": [
    "response = requests.get(\"https://cmr.earthdata.nasa.gov/search/collections?sensor=1B&sensor=2B\")\n",
    "printhits(response)"
   ]
  },
  {
   "source": [
    "## Find collections by spatial\\_keyword\n",
    "\n",
    "This supports `pattern`, `ignore_case` and option `and`.\n",
    "\n",
    "Find collections matching any of the 'spatial_keyword' param values"
   ],
   "cell_type": "markdown",
   "metadata": {}
  },
  {
   "cell_type": "code",
   "execution_count": 71,
   "metadata": {},
   "outputs": [
    {
     "output_type": "stream",
     "name": "stdout",
     "text": [
      "1 hits\n"
     ]
    }
   ],
   "source": [
    "response = requests.get(\"https://cmr.earthdata.nasa.gov/search/collections?spatial_keyword=DC&spatial_keyword=LA\")\n",
    "printhits(response)"
   ]
  },
  {
   "source": [
    "## Find collections by Spatial\n",
    "\n",
    "### Polygon\n",
    "\n",
    "Polygon points are provided in counter-clockwise order. The last point should match the first point to close the polygon. The values are listed comma separated in longitude latitude order, i.e. lon1, lat1, lon2, lat2, lon3, lat3, and so on.\n",
    "This parameter supports the and/or option as shown below."
   ],
   "cell_type": "markdown",
   "metadata": {}
  },
  {
   "cell_type": "code",
   "execution_count": 77,
   "metadata": {},
   "outputs": [
    {
     "output_type": "stream",
     "name": "stdout",
     "text": [
      "7789 hits\n"
     ]
    }
   ],
   "source": [
    "response = requests.get(\"https://cmr.earthdata.nasa.gov/search/collections?polygon[]=10,10,30,10,30,20,10,20,10,10\")\n",
    "printhits(response)"
   ]
  },
  {
   "source": [
    "### Bounding Box\n",
    "\n",
    "Bounding boxes define an area on the earth aligned with longitude and latitude. The Bounding box parameters must be 4 comma-separated numbers: lower left longitude, lower left latitude, upper right longitude, upper right latitude.\n",
    "This parameter supports the and/or option as shown below."
   ],
   "cell_type": "markdown",
   "metadata": {}
  },
  {
   "cell_type": "code",
   "execution_count": 78,
   "metadata": {},
   "outputs": [
    {
     "output_type": "stream",
     "name": "stdout",
     "text": [
      "7812 hits\n",
      "7824 hits\n"
     ]
    }
   ],
   "source": [
    "response = requests.get(\"https://cmr.earthdata.nasa.gov/search/collections?bounding_box[]=-10,-5,10,5\")\n",
    "printhits(response)\n",
    "\n",
    "response = requests.get(\"https://cmr.earthdata.nasa.gov/search/collections?bounding_box[]=-10,-5,10,5&bounding_box[]=-11,-6,11,6&options[bounding_box][or]=true\")\n",
    "printhits(response)"
   ]
  },
  {
   "source": [
    "### Point\n",
    "\n",
    "Search using a point involves using a pair of values representing the point coordinates as parameters. The first value is the longitude and second value is the latitude. This parameter supports the and/or option as shown below.\n"
   ],
   "cell_type": "markdown",
   "metadata": {}
  },
  {
   "cell_type": "code",
   "execution_count": 79,
   "metadata": {},
   "outputs": [
    {
     "output_type": "stream",
     "name": "stdout",
     "text": [
      "7649 hits\n",
      "7683 hits\n"
     ]
    }
   ],
   "source": [
    "response = requests.get(\"https://cmr.earthdata.nasa.gov/search/collections?point=100,20\")\n",
    "printhits(response)\n",
    "\n",
    "response = requests.get(\"https://cmr.earthdata.nasa.gov/search/collections?point=100,20&point=80,20&options[point][or]=true\")\n",
    "printhits(response)"
   ]
  },
  {
   "source": [
    "### Line\n",
    "\n",
    "Lines are provided as a list of comma separated values representing coordinates of points along the line. The coordinates are listed in the format lon1, lat1, lon2, lat2, lon3, lat3, and so on. This parameter supports the and/or option as shown below."
   ],
   "cell_type": "markdown",
   "metadata": {}
  },
  {
   "cell_type": "code",
   "execution_count": 80,
   "metadata": {},
   "outputs": [
    {
     "output_type": "stream",
     "name": "stdout",
     "text": [
      "7812 hits\n",
      "7839 hits\n"
     ]
    }
   ],
   "source": [
    "response = requests.get(\"https://cmr.earthdata.nasa.gov/search/collections?line[]=-0.37,-14.07,4.75,1.27,25.13,-15.51\")\n",
    "printhits(response)\n",
    "\n",
    "response = requests.get(\"https://cmr.earthdata.nasa.gov/search/collections?line[]=-0.37,-14.07,4.75,1.27,25.13,-15.51&line[]=-1.37,-15.07,5.75,2.27,26.13,-16.51&options[line][or]=true\")\n",
    "printhits(response)"
   ]
  },
  {
   "source": [
    "### Circle\n",
    "\n",
    "Circle defines a circle area on the earth with a center point and a radius. The center parameters must be 3 comma-separated numbers: longitude of the center point, latitude of the center point, radius of the circle in meters. The circle center cannot be on North or South pole. The radius of the circle must be between 10 and 6,000,000.\n",
    "This parameter supports the and/or option as shown below."
   ],
   "cell_type": "markdown",
   "metadata": {}
  },
  {
   "cell_type": "code",
   "execution_count": 81,
   "metadata": {},
   "outputs": [
    {
     "output_type": "stream",
     "name": "stdout",
     "text": [
      "7839 hits\n",
      "8903 hits\n"
     ]
    }
   ],
   "source": [
    "esponse = requests.get(\"https://cmr.earthdata.nasa.gov/search/collections?circle[]=-87.629717,41.878112,1000\")\n",
    "printhits(response)\n",
    "\n",
    "response = requests.get(\"https://cmr.earthdata.nasa.gov/search/collections?circle[]=-87.629717,41.878112,1000&circle[]=-75,41.878112,1000&options[circle][or]=true\")\n",
    "printhits(response)"
   ]
  },
  {
   "source": [
    "Note: A query could consist of multiple spatial parameters of different types, two bounding boxes and a polygon for example. If multiple spatial parameters are present, all the parameters irrespective of their type are AND'd in a query. So, if a query contains two bounding boxes and a polygon for example, it will return only those collections which intersect both the bounding boxes and the polygon."
   ],
   "cell_type": "markdown",
   "metadata": {}
  }
 ]
}