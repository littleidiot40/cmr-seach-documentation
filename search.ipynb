{
 "cells": [
  {
   "cell_type": "markdown",
   "metadata": {},
   "source": [
    "# The basics of querying CMR\n",
    "[Reference](https://cmr.earthdata.nasa.gov/search/site/docs/search/api.html)\n",
    "\n",
    "The simplest query to CMR is a collection-level search with no filter constraints:\n",
    "\n",
    "    GET https://cmr.earthdata.nasa.gov/search/collections\n",
    "\n",
    "We will use this query to demonstrate the basic functionality of CMR search.\n",
    "What can we do with this query?"
   ]
  },
  {
   "cell_type": "code",
   "execution_count": null,
   "metadata": {},
   "outputs": [],
   "source": [
    "import requests\n",
    "import xml.dom.minidom\n",
    "\n",
    "response = requests.get(\"https://cmr.earthdata.nasa.gov/search/collections\")"
   ]
  },
  {
   "cell_type": "markdown",
   "metadata": {},
   "source": [
    "The default response is an xml document of collection result references. Let's pretty print the output."
   ]
  },
  {
   "cell_type": "code",
   "execution_count": null,
   "metadata": {},
   "outputs": [],
   "source": [
    "# The default response (xml reference) is an xml document of result references. Let's pretty print the output\n",
    "response_as_dom = xml.dom.minidom.parseString(response.text)\n",
    "xml_reference_response = response_as_dom.toprettyxml()\n",
    "print(xml_reference_response)"
   ]
  },
  {
   "cell_type": "markdown",
   "metadata": {},
   "source": [
    "## Parsing the xml results\n",
    "We can extract information from the results in a programatic way using xpath"
   ]
  },
  {
   "cell_type": "markdown",
   "metadata": {},
   "source": [
    "How many collection results are there?"
   ]
  },
  {
   "cell_type": "code",
   "execution_count": null,
   "metadata": {},
   "outputs": [],
   "source": [
    "import xml.etree.ElementTree as et\n",
    "doc = et.fromstring(response.text)\n",
    "\n",
    "print(\"Total number of collection results: \" + doc.findtext('hits'))   "
   ]
  },
  {
   "cell_type": "markdown",
   "metadata": {},
   "source": [
    "How many collection results were returned?"
   ]
  },
  {
   "cell_type": "code",
   "execution_count": null,
   "metadata": {},
   "outputs": [],
   "source": [
    "references = doc.findall('references/reference')\n",
    "print(\"No. of results returned: \" + str(len(references)))  "
   ]
  },
  {
   "cell_type": "markdown",
   "metadata": {},
   "source": [
    "Where is the first collection result?"
   ]
  },
  {
   "cell_type": "code",
   "execution_count": null,
   "metadata": {},
   "outputs": [],
   "source": [
    "print(\"First result reference: \" + str(references[0].find('location').text))"
   ]
  },
  {
   "cell_type": "markdown",
   "metadata": {},
   "source": [
    "What is the human-readable name of the first collection result?"
   ]
  },
  {
   "cell_type": "code",
   "execution_count": null,
   "metadata": {},
   "outputs": [],
   "source": [
    "print(\"First result name: \" + str(references[0].find('name').text))"
   ]
  },
  {
   "cell_type": "markdown",
   "metadata": {},
   "source": [
    "What is the unique ID (concept-id) of the first collection result?"
   ]
  },
  {
   "cell_type": "code",
   "execution_count": null,
   "metadata": {},
   "outputs": [],
   "source": [
    "print(\"First result concept id: \" + str(references[0].find('id').text))"
   ]
  },
  {
   "cell_type": "markdown",
   "metadata": {},
   "source": [
    "## Going further than the first 10 results\n",
    "CMR search supports paging parameters to iterate through 'pages' of results.\n",
    "You can select your page size and your page number. Page size can be a positive integer between 1 and 2000. Page number can be a positive integer.\n",
    "Note: for harvesting use cases we do not recommend paging through results. See: [scrolling](https://cmr.earthdata.nasa.gov/search/site/docs/search/api.html#scrolling-details)\n",
    "\n",
    "Let's try getting 20 results instead of the default value of 10.\n",
    "\n",
    "    GET https://cmr.earthdata.nasa.gov/search/collections?page_size=20"
   ]
  },
  {
   "cell_type": "code",
   "execution_count": null,
   "metadata": {},
   "outputs": [],
   "source": [
    "response = requests.get(\"https://cmr.earthdata.nasa.gov/search/collections?page_size=20\")\n",
    "doc = et.fromstring(response.text)\n",
    "print(\"No. of results returned: \" + str(len(references))) \n",
    "references = doc.findall('references/reference')\n",
    "print(\"11th result concept id: \" + str(references[10].find('id').text)) "
   ]
  },
  {
   "cell_type": "markdown",
   "metadata": {},
   "source": [
    "We have retrieved the first 20 results instead of the default 10.\n",
    "Now let's try getting the next 20 results\n",
    "\n",
    "    GET https://cmr.earthdata.nasa.gov/search/collections?page_size=20&page_num=2"
   ]
  },
  {
   "cell_type": "code",
   "execution_count": null,
   "metadata": {},
   "outputs": [],
   "source": [
    "response = requests.get(\"https://cmr.earthdata.nasa.gov/search/collections?page_size=20&page_num=2\")\n",
    "doc = et.fromstring(response.text)\n",
    "references = doc.findall('references/reference')\n",
    "print(\"11th result concept id: \" + str(references[10].find('id').text)) "
   ]
  },
  {
   "cell_type": "markdown",
   "metadata": {},
   "source": [
    "Notice that the 11th result is different because we are looking at a different page"
   ]
  },
  {
   "cell_type": "markdown",
   "metadata": {},
   "source": [
    "## Getting metadata by reference\n",
    "Let's get the metadata for the 11th result using the reference"
   ]
  },
  {
   "cell_type": "code",
   "execution_count": null,
   "metadata": {},
   "outputs": [],
   "source": [
    "print(\"11th result reference: \" + str(references[10].find('location').text)) \n",
    "\n",
    "response = requests.get(str(references[10].find('location').text))\n",
    "response_as_dom = xml.dom.minidom.parseString(response.text)\n",
    "xml_reference_response = response_as_dom.toprettyxml()\n",
    "print(xml_reference_response)"
   ]
  },
  {
   "cell_type": "markdown",
   "metadata": {},
   "source": [
    "## Getting metadata in the format you want\n",
    "The above is the native format of the metadata. The format the data was ingested in. CMR can give us this metadata in other formats.\n",
    "\n",
    "We can specify our desired format by file extension or an 'Accept' header in our request.\n",
    "Here is a list of populat formats. For an exhaustive list see [extensions](https://cmr.earthdata.nasa.gov/search/site/docs/search/api.html#extensions)\n",
    "\n",
    "| Format  | Extension | Accept Header                               |\n",
    "|---------|-----------|---------------------------------------------|\n",
    "| native  | N/A       | \"application/metadata+xml\"                  |\n",
    "| html    | .html     | \"text/html\"                                 |\n",
    "| json    | .umm_json | \"application/vnd.nasa.cmr.umm_results+json\" |\n",
    "| echo10  | .echo10   | \"application/echo10+xml\"                    |\n",
    "| iso     | .iso      | \"application/iso19115+xml\"                  |\n",
    "\n",
    "Let's try using a file extension to get the collection metadata in ECHO10 format"
   ]
  },
  {
   "cell_type": "code",
   "execution_count": null,
   "metadata": {},
   "outputs": [],
   "source": [
    "response = requests.get(str(references[10].find('location').text) + \".echo10\")\n",
    "response_as_dom = xml.dom.minidom.parseString(response.text)\n",
    "xml_reference_response = response_as_dom.toprettyxml()\n",
    "print(xml_reference_response)"
   ]
  },
  {
   "cell_type": "markdown",
   "metadata": {},
   "source": [
    "Let's do the same thing but using a header to specify the desired format"
   ]
  },
  {
   "cell_type": "code",
   "execution_count": null,
   "metadata": {},
   "outputs": [],
   "source": [
    "headers = {'Accept': 'application/echo10+xml'}\n",
    "response = requests.get(str(references[10].find('location').text), headers=headers)\n",
    "response_as_dom = xml.dom.minidom.parseString(response.text)\n",
    "xml_reference_response = response_as_dom.toprettyxml()\n",
    "print(xml_reference_response)"
   ]
  },
  {
   "cell_type": "markdown",
   "metadata": {},
   "source": [
    "Let's try it in json format"
   ]
  },
  {
   "cell_type": "code",
   "execution_count": null,
   "metadata": {},
   "outputs": [],
   "source": [
    "import json\n",
    "import jq\n",
    "\n",
    "response = requests.get(str(references[10].find('location').text+ \".umm_json\"))\n",
    "doc = json.loads(response.text)\n",
    "print(json.dumps(doc, indent=2))"
   ]
  },
  {
   "cell_type": "markdown",
   "metadata": {},
   "source": [
    "We can parse the JSON response programmatically. What is the short name of this collection?"
   ]
  },
  {
   "cell_type": "code",
   "execution_count": null,
   "metadata": {},
   "outputs": [],
   "source": [
    "print(\"Short name: \" + jq.compile(\".ShortName\").input(doc).first())"
   ]
  },
  {
   "cell_type": "markdown",
   "metadata": {},
   "source": [
    "## Getting metadata directly\n",
    "You can also get your metadata in a single request by specifiying a format in the initial search request. Rather than getting a list of metadata locations, you will get a list of metadata records. Let's try this using UMM-JSON;\n",
    "\n",
    "    GET https://cmr.earthdata.nasa.gov/search/collections.umm_json"
   ]
  },
  {
   "cell_type": "code",
   "execution_count": null,
   "metadata": {},
   "outputs": [],
   "source": [
    "response = requests.get(\"https://cmr.earthdata.nasa.gov/search/collections.umm_json\")\n",
    "doc = json.loads(response.text)\n",
    "print(json.dumps(doc, indent=2))"
   ]
  },
  {
   "cell_type": "markdown",
   "metadata": {},
   "source": [
    "You can see that we now have the actual metadata for each collection, rather than a reference to it.\n",
    "Let's look at the first record;"
   ]
  },
  {
   "cell_type": "code",
   "execution_count": null,
   "metadata": {},
   "outputs": [],
   "source": [
    "print(print(json.dumps(jq.compile(\".items[0]\").input(doc).first(), indent=2)))"
   ]
  },
  {
   "cell_type": "markdown",
   "metadata": {},
   "source": [
    "## Filtering metadata by search constraints"
   ]
  },
  {
   "cell_type": "markdown",
   "metadata": {},
   "source": [
    "You can filter your results using HTTP query parameters. Here is a simple example"
   ]
  },
  {
   "cell_type": "code",
   "execution_count": null,
   "metadata": {},
   "outputs": [],
   "source": [
    "response = requests.get(\"https://cmr.earthdata.nasa.gov/search/collections?short_name=MOD02QKM\")\n",
    "print(\"Number of collections with this shortname: \" + response.headers['CMR-Hits'])"
   ]
  },
  {
   "cell_type": "markdown",
   "metadata": {},
   "source": [
    "## Parameter Options\n",
    "The behavior of search with respect to each parameter can be modified using the options parameter. The options parameter takes the following form:\n",
    "\n",
    "`options[parameter][option_key]=value`\n",
    "\n",
    "where `parameter` is the URL parameter whose behavior is to be affected, value is either `true` or `false`, and `option_key` is one of the following:"
   ]
  },
  {
   "cell_type": "markdown",
   "metadata": {},
   "source": [
    "### Ignoring case\n",
    "`ignore_case` if set to true, the search will be case insensitive and if set to false, the search will be case sensitive. Defaults to true."
   ]
  },
  {
   "cell_type": "code",
   "execution_count": null,
   "metadata": {},
   "outputs": [],
   "source": [
    "response = requests.get(\"https://cmr.earthdata.nasa.gov/search/collections?short_name=mod02qkm&options[short_name][ignore_case]=false\")\n",
    "print(\"Number of collections with this shortname: \" + response.headers['CMR-Hits'])"
   ]
  },
  {
   "cell_type": "markdown",
   "metadata": {},
   "source": [
    "### Pattern matching\n",
    "`pattern` if set to true, the search will treat the value provided for the parameter as a pattern with wild-cards, in which '*' matches zero or more characters and '?' matches any single character. For example, `platform[]=AB?D*&options[platform][pattern]=true` would match 'ABAD123', 'ABCD12', 'ABeD', etc. Defaults to false. \n",
    "NOTE: Patterns with leading wildcards, like \"*ODIS\", are computationally expensive. The CMR limits the maximum number of patterns with a leading wildcard per query to 5."
   ]
  },
  {
   "cell_type": "code",
   "execution_count": null,
   "metadata": {},
   "outputs": [],
   "source": [
    "response = requests.get(\"https://cmr.earthdata.nasa.gov/search/collections?short_name=D*&options[short_name][pattern]=true\")\n",
    "print(\"Number of collections with this shortname: \" + response.headers['CMR-Hits'])"
   ]
  },
  {
   "cell_type": "markdown",
   "metadata": {},
   "source": [
    "### AND'ing\n",
    "`and` if set to true and if multiple values are listed for the param, the concepts must have ALL of these values in order to match. The default is false which means concepts with ANY of the values match. This option only applies to fields which may be multivalued; these are documented here."
   ]
  },
  {
   "cell_type": "code",
   "execution_count": null,
   "metadata": {},
   "outputs": [],
   "source": [
    "response = requests.get(\"https://cmr.earthdata.nasa.gov/search/collections?short_name=MOD02QKM&short_name=MOD02HKM&options[short_name][and]=true\")\n",
    "print(\"Number of collections with this shortname: \" + response.headers['CMR-Hits'])"
   ]
  }
 ],
 "metadata": {
  "interpreter": {
   "hash": "aee8b7b246df8f9039afb4144a1f6fd8d2ca17a180786b69acc140d282b71a49"
  },
  "kernelspec": {
   "display_name": "Python 3.7.6 64-bit",
   "name": "python3"
  },
  "language_info": {
   "codemirror_mode": {
    "name": "ipython",
    "version": 3
   },
   "file_extension": ".py",
   "mimetype": "text/x-python",
   "name": "python",
   "nbconvert_exporter": "python",
   "pygments_lexer": "ipython3",
   "version": "3.7.6"
  },
  "orig_nbformat": 4
 },
 "nbformat": 4,
 "nbformat_minor": 2
}