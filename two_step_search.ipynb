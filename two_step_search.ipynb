{
 "cells": [
  {
   "cell_type": "markdown",
   "metadata": {},
   "source": [
    "# Two step CMR search\n"
   ]
  },
  {
   "cell_type": "markdown",
   "metadata": {},
   "source": [
    "First we use the collection search API to find collections of interest.\n",
    "\n",
    "    GET https://cmr.earthdata.nasa.gov/search/collections\n",
    "\n",
    "Say, for example, we are interested in surface reflectance data from the Sentinel-2 satellite over New York City on June 26th, 2021.\n",
    "\n",
    "Let's translate the above into a set of query filters.\n",
    "\n",
    "## Spatial\n",
    "New York City is located at 40.70125° North, 73.98581° West. We can use the `point` search filter to express this\n",
    "\n",
    "    point=-73.98581,40.70125\n",
    "\n",
    "## Temporal \n",
    "June 26th, 2021 can be described using an ISO8601 format as `2021-06-21T00:00:00Z,2021-06-21T23:59:59Z`. We can use the `temporal` search filter to express this\n",
    "\n",
    "    temporal[]=2021-06-21T00:00:00Z,2021-06-21T23:59:59Z\n",
    "\n",
    "## Satellite and measurement\n",
    "Finally, our satellite and measurement can be expressed using a keyword (free text) search filter.\n",
    "\n",
    "    keyword=sentinel-2 surface reflectance\n",
    "\n",
    "## The collection search\n",
    "\n",
    "We can AND all these terms together and form a CMR query as follows:\n",
    "\n",
    "    GET https://cmr.earthdata.nasa.gov/search/collections?keyword=sentinel-2 surface reflectance&point=-73.98581,40.70125&temporal[]=2021-06-21T00:00:00Z,2021-06-21T23:59:59Z\n"
   ]
  },
  {
   "cell_type": "code",
   "execution_count": null,
   "metadata": {},
   "outputs": [],
   "source": [
    "import requests\n",
    "import xml.dom.minidom\n",
    "import xml.etree.ElementTree as et\n",
    "\n",
    "response = requests.get(\"https://cmr.earthdata.nasa.gov/search/collections?keyword=sentinel-2 surface reflectance&point=-73.98581,40.70125&temporal[]=2021-06-21T00:00:00Z,2021-06-21T23:59:59Z\")\n",
    "print(\"Number of matching collections: \" + response.headers['CMR-Hits'])"
   ]
  },
  {
   "cell_type": "markdown",
   "metadata": {},
   "source": [
    "We have a number of results. Let's look at the first one:"
   ]
  },
  {
   "cell_type": "code",
   "execution_count": null,
   "metadata": {},
   "outputs": [],
   "source": [
    "doc = et.fromstring(response.text)\n",
    "\n",
    "references = doc.findall('references/reference')\n",
    "reference = references[0].find('location').text\n",
    "concept_id = references[0].find('id').text\n",
    "print(\"First collection reference: \" + str(reference))\n",
    "print(\"First collection name: \" + str(references[0].find('name').text))\n",
    "print(\"First collection concept id: \" + str(concept_id))"
   ]
  },
  {
   "cell_type": "markdown",
   "metadata": {},
   "source": [
    "That looks good. Let's look at the actual metadata associated with that result.\n",
    "## The collection retrieval"
   ]
  },
  {
   "cell_type": "code",
   "execution_count": null,
   "metadata": {},
   "outputs": [],
   "source": [
    "response = requests.get(reference + \".echo10\")\n",
    "response_as_dom = xml.dom.minidom.parseString(response.text)\n",
    "xml_reference_response = response_as_dom.toprettyxml()\n",
    "print(xml_reference_response)"
   ]
  },
  {
   "cell_type": "markdown",
   "metadata": {},
   "source": [
    "This looks like what we want. What else can we do at the collection level to assess whether we have the right collection?\n",
    "It has a browse image. Let's look at that. Note: this is a browse image for the whole collection. It's just an example\n",
    "## Extract the collection browse image and visualize"
   ]
  },
  {
   "cell_type": "code",
   "execution_count": null,
   "metadata": {},
   "outputs": [],
   "source": [
    "doc = et.fromstring(response.text)\n",
    "browse_url = doc.findall(\"AssociatedBrowseImageUrls/ProviderBrowseUrl/URL\")[0].text\n",
    "print(\"Collection browse URL: \" + str(browse_url)) \n",
    "\n",
    "from PIL import Image\n",
    "\n",
    "img = Image.open(requests.get(browse_url, stream=True).raw)\n",
    "img. show()"
   ]
  },
  {
   "cell_type": "markdown",
   "metadata": {},
   "source": [
    "## Searching for granules\n",
    "Assuming we are happy with this collection as the source of our data, we can now use the concept-id of that collection to search for granules.\n",
    "We will use the spatial and temporal filters we used in our collection search. We no longer need the keyword filter\n",
    "\n",
    "    https://cmr.earthdata.nasa.gov/search/granules.echo10?collection_concept_id=foo&point=-73.98581,40.70125&temporal[]=2021-06-21T00:00:00Z,2021-06-21T23:59:59Z"
   ]
  },
  {
   "cell_type": "code",
   "execution_count": null,
   "metadata": {},
   "outputs": [],
   "source": [
    "response = requests.get(\"https://cmr.earthdata.nasa.gov/search/granules.echo10?collection_concept_id=\" + concept_id + \"&point=-73.98581,40.70125&temporal[]=2021-06-21T00:00:00Z,2021-06-21T23:59:59Z\")\n",
    "print(\"Number of matching granules: \" + response.headers['CMR-Hits'])\n"
   ]
  },
  {
   "cell_type": "markdown",
   "metadata": {},
   "source": [
    "That search matched a single granule.\n",
    "\n",
    "## Inspecting the granule metadata\n",
    "Let's look at the metadata for this granule"
   ]
  },
  {
   "cell_type": "code",
   "execution_count": null,
   "metadata": {},
   "outputs": [],
   "source": [
    "response_as_dom = xml.dom.minidom.parseString(response.text)\n",
    "xml_reference_response = response_as_dom.toprettyxml()\n",
    "print(xml_reference_response)\n"
   ]
  },
  {
   "cell_type": "markdown",
   "metadata": {},
   "source": [
    "## Extract the granule browse image and visualize\n",
    "Let's look at the browse for this granule"
   ]
  },
  {
   "cell_type": "code",
   "execution_count": null,
   "metadata": {},
   "outputs": [],
   "source": [
    "doc = et.fromstring(response.text)\n",
    "browse_url = doc.findall(\"result/Granule/AssociatedBrowseImageUrls/ProviderBrowseUrl/URL\")[0].text\n",
    "print(\"Granule browse URL: \" + str(browse_url)) \n",
    "\n",
    "img = Image.open(requests.get(browse_url, stream=True).raw)\n",
    "img. show()"
   ]
  },
  {
   "cell_type": "markdown",
   "metadata": {},
   "source": [
    "New York!\n",
    "\n",
    "## Where is the data?\n",
    "We can extract the data locations for this granule as follows:"
   ]
  },
  {
   "cell_type": "code",
   "execution_count": null,
   "metadata": {},
   "outputs": [],
   "source": [
    "data_urls = doc.findall(\"result/Granule/OnlineAccessURLs/OnlineAccessURL/URL\")\n",
    "for url in data_urls:\n",
    "    print(\"Granule data URL: \" + url.text)"
   ]
  },
  {
   "cell_type": "markdown",
   "metadata": {},
   "source": [
    "We have a number of data urls. Generally, Sentinel-2 gives you a data file for each band associated with the instrument.\n",
    "\n",
    "## Obtaining the data\n",
    "Coming soon!"
   ]
  }
 ],
 "metadata": {
  "interpreter": {
   "hash": "aee8b7b246df8f9039afb4144a1f6fd8d2ca17a180786b69acc140d282b71a49"
  },
  "kernelspec": {
   "display_name": "Python 3.7.6 64-bit",
   "name": "python3"
  },
  "language_info": {
   "codemirror_mode": {
    "name": "ipython",
    "version": 3
   },
   "file_extension": ".py",
   "mimetype": "text/x-python",
   "name": "python",
   "nbconvert_exporter": "python",
   "pygments_lexer": "ipython3",
   "version": "3.7.6"
  },
  "orig_nbformat": 4
 },
 "nbformat": 4,
 "nbformat_minor": 2
}